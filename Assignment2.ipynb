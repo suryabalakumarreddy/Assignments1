{
  "nbformat": 4,
  "nbformat_minor": 0,
  "metadata": {
    "colab": {
      "name": "Assignment2.ipynb",
      "provenance": []
    },
    "kernelspec": {
      "name": "python3",
      "display_name": "Python 3"
    }
  },
  "cells": [
    {
      "cell_type": "code",
      "metadata": {
        "colab": {
          "base_uri": "https://localhost:8080/"
        },
        "id": "XdnDdtZSG1Mi",
        "outputId": "50d6ae6a-119f-4cd3-aeaa-884179ee0407"
      },
      "source": [
        "a = int(input())\r\n",
        "if(a<=1000):\r\n",
        "    print(\"safe to land\")\r\n",
        "elif((a>1000) and (a<5000)):\r\n",
        "    print(\"Bring down to 1000\")\r\n",
        "else:\r\n",
        "    print(\"turn around\")"
      ],
      "execution_count": 2,
      "outputs": [
        {
          "output_type": "stream",
          "text": [
            "1000\n",
            "safe to land\n"
          ],
          "name": "stdout"
        }
      ]
    },
    {
      "cell_type": "code",
      "metadata": {
        "colab": {
          "base_uri": "https://localhost:8080/"
        },
        "id": "zYTHgWoAG62O",
        "outputId": "648cef50-8d11-46a5-a89c-da815368b1b8"
      },
      "source": [
        "a = int(input())\r\n",
        "if(a<=1000):\r\n",
        "    print(\"safe to land\")\r\n",
        "elif((a>1000) and (a<5000)):\r\n",
        "    print(\"Bring down to 1000\")\r\n",
        "else:\r\n",
        "    print(\"turn around\")"
      ],
      "execution_count": 3,
      "outputs": [
        {
          "output_type": "stream",
          "text": [
            "4500\n",
            "Bring down to 1000\n"
          ],
          "name": "stdout"
        }
      ]
    },
    {
      "cell_type": "code",
      "metadata": {
        "id": "UeefMBrTHTAh",
        "outputId": "49405d2e-5c2d-41fd-912a-9af0b02a840e",
        "colab": {
          "base_uri": "https://localhost:8080/"
        }
      },
      "source": [
        "6500"
      ],
      "execution_count": 4,
      "outputs": [
        {
          "output_type": "execute_result",
          "data": {
            "text/plain": [
              "6500"
            ]
          },
          "metadata": {
            "tags": []
          },
          "execution_count": 4
        }
      ]
    },
    {
      "cell_type": "code",
      "metadata": {
        "id": "NThUUt-LHeXv",
        "outputId": "768402ad-5a08-4ee3-b06b-44b4a2f9b9b6",
        "colab": {
          "base_uri": "https://localhost:8080/"
        }
      },
      "source": [
        "a = int(input())\r\n",
        "if(a<=1000):\r\n",
        "    print(\"safe to land\")\r\n",
        "elif((a>1000) and (a<5000)):\r\n",
        "    print(\"Bring down to 1000\")\r\n",
        "else:\r\n",
        "    print(\"turn around\")"
      ],
      "execution_count": 5,
      "outputs": [
        {
          "output_type": "stream",
          "text": [
            "6500\n",
            "turn around\n"
          ],
          "name": "stdout"
        }
      ]
    },
    {
      "cell_type": "code",
      "metadata": {
        "id": "SDpQn4JuHiEk"
      },
      "source": [
        ""
      ],
      "execution_count": 5,
      "outputs": []
    }
  ]
}